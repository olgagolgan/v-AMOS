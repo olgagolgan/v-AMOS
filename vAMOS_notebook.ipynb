{
 "cells": [
  {
   "cell_type": "markdown",
   "metadata": {},
   "source": [
    "# Final report, v-AMOS Team\n",
    "\n",
    "## Introduction\n",
    "The following notebook is intended as a report for the final project of the course \"Data Science\" (Prof. Peroni), consisting in a Python query processor for graph and relational databases. It was developed by the team \"v-AMOS\", composed by four students of the MA \"Digital Humanities and Digital Humanities\" at University of Bologna: [Amelia Lamaregese](mailto:amelia.lamargese@studio.unibo.it), [Olga Pagnotta](mailto:olga.pagnotta@studio.unibo.it), [Manuele Veggi](mailto:manuele.veggi@studio.unibo.it) e [Sara Vellone](mailto:sara.vellone@studio.unibo.it).\n",
    "\n",
    "The specific guidelines of the project are available at the following [page](https://github.com/comp-data/2021-2022/tree/main/docs/project). \n",
    "\n",
    "![workflow](https://github.com/olgagolgan/v-AMOS/blob/4a8b86c7a026f3ecdeef21c34652c1bf0792a549/imgJupiNB/workflow.png)"
   ]
  },
  {
   "cell_type": "markdown",
   "metadata": {},
   "source": [
    "## Data Model\n",
    "\n",
    "The databases contain information on different academic publications. The entirety of the pieces of information provided can be organized within a data model and graphically visualized through UML.\n",
    "\n",
    "![classes data model](https://github.com/olgagolgan/v-AMOS/blob/4a8b86c7a026f3ecdeef21c34652c1bf0792a549/imgJupiNB/umlClasses.png)\n",
    "\n",
    "One of the first task hence concerned the translation of the model into a proper Python code. Following the syntax of classes declaration, we started defining properties and methods *IdentifiableEntity*, as all the other classes are its subclasses. "
   ]
  },
  {
   "cell_type": "code",
   "execution_count": 23,
   "metadata": {},
   "outputs": [],
   "source": [
    "class IdentifiableEntity:\n",
    "    def __init__(self, identifier):\n",
    "        self.identifier = identifier\n",
    "\n",
    "    def getIds(self):\n",
    "        return list(self.identifier)"
   ]
  },
  {
   "cell_type": "markdown",
   "metadata": {},
   "source": [
    "Later on, we proceeded the subclasses *Person* and *Organization*:"
   ]
  },
  {
   "cell_type": "code",
   "execution_count": 24,
   "metadata": {},
   "outputs": [],
   "source": [
    "class Person(IdentifiableEntity):\n",
    "    def __init__(self, identifier, givenName, familyName):\n",
    "        super().__init__(identifier)\n",
    "        self.givenName = givenName\n",
    "        self.familyName = familyName\n",
    "\n",
    "    def getGivenName(self):\n",
    "        return self.givenName\n",
    "\n",
    "    def getFamilyName(self):\n",
    "        return self.familyName\n",
    "\n",
    "\n",
    "class Organization(IdentifiableEntity):\n",
    "    def __init__(self, identifier, name):\n",
    "        super().__init__(identifier)\n",
    "        self.name = name\n",
    "\n",
    "    def getName(self):\n",
    "        return self.name"
   ]
  },
  {
   "cell_type": "markdown",
   "metadata": {},
   "source": [
    "We also defined *Publication* and its subclasses (*JournalArticle*, *BookChapter*, *ProceedingsPaper*)."
   ]
  },
  {
   "cell_type": "code",
   "execution_count": 25,
   "metadata": {},
   "outputs": [],
   "source": [
    "class Publication(IdentifiableEntity):\n",
    "    def __init__(self, identifier, publicationYear, title, cited, authors, publicationVenue):\n",
    "        super().__init__(identifier)\n",
    "        self.publicationYear = publicationYear\n",
    "        self.title = title\n",
    "        self.cited = cited\n",
    "        self.authors = authors\n",
    "        self.publicationVenue = publicationVenue\n",
    "\n",
    "    def getPublicationYear(self):\n",
    "        return self.publicationYear\n",
    "\n",
    "    def getTitle(self):\n",
    "        return self.title\n",
    "\n",
    "    def getCitedPublications(self):\n",
    "        return self.cited \n",
    "\n",
    "    def getPublicationVenue(self):\n",
    "        return self.publicationVenue\n",
    "\n",
    "    def getAuthors(self):\n",
    "        return self.authors  \n",
    "\n",
    "\n",
    "class JournalArticle(Publication):\n",
    "    def __init__(self, identifier, publicationYear, title, cited, authors, publicationVenue, issue, volume):\n",
    "        super().__init__(identifier, publicationYear, title, cited, authors, publicationVenue)\n",
    "        self.issue = issue\n",
    "        self.volume = volume\n",
    "\n",
    "    def getIssue(self):\n",
    "        return self.issue\n",
    "\n",
    "    def getVolume(self):\n",
    "        return self.volume\n",
    "\n",
    "\n",
    "class BookChapter(Publication):\n",
    "    def __init__(self, identifier, publicationYear, title, cited, authors, publicationVenue, chapterNumber):\n",
    "        super().__init__(identifier, publicationYear, title, cited, authors, publicationVenue)\n",
    "        self.chapterNumber = chapterNumber\n",
    "\n",
    "    def getChapterNumber(self):\n",
    "        return self.chapterNumber\n",
    "\n",
    "\n",
    "class ProceedingsPaper(Publication):\n",
    "    pass"
   ]
  },
  {
   "cell_type": "markdown",
   "metadata": {},
   "source": [
    "Lastly, we declared *Venue* and the subclasses *Journal*, *Book* and *Proceedings*."
   ]
  },
  {
   "cell_type": "code",
   "execution_count": 26,
   "metadata": {},
   "outputs": [],
   "source": [
    "class Venue(IdentifiableEntity):\n",
    "    def __init__(self, identifier, title, publisher):\n",
    "        super().__init__(identifier)\n",
    "        self.title = title\n",
    "        self.publisher = publisher\n",
    "\n",
    "    def getTitle(self):\n",
    "        return self.title\n",
    "\n",
    "    def getPublisher(self):\n",
    "        return self.publisher\n",
    "\n",
    "\n",
    "class Journal(Venue):\n",
    "    pass\n",
    "\n",
    "\n",
    "class Book(Venue):\n",
    "    pass\n",
    "\n",
    "\n",
    "class Proceedings(Venue):\n",
    "    def __init__(self, identifier, title, publisher, event):\n",
    "        super().__init__(identifier, title, publisher)\n",
    "        self.event = event\n",
    "\n",
    "    def getEvent(self):\n",
    "        return self.event"
   ]
  },
  {
   "cell_type": "markdown",
   "metadata": {},
   "source": [
    "## Additional classes\n",
    "\n",
    "The classes defining the functioning of the query processor have been described in the following UML model:\n",
    "\n",
    "![additional classes UML](imgJupiNB/umlQueryPro.png)\n",
    "\n",
    "To complete the transaltion in Python, the workload was splitted in two halves: firstly, the creation and the query software for the relational database was created, then the same functionalities was adapted to the graph database. \n",
    "\n",
    "### Relational database"
   ]
  }
 ],
 "metadata": {
  "interpreter": {
   "hash": "aee8b7b246df8f9039afb4144a1f6fd8d2ca17a180786b69acc140d282b71a49"
  },
  "kernelspec": {
   "display_name": "Python 3.10.0 64-bit",
   "language": "python",
   "name": "python3"
  },
  "language_info": {
   "codemirror_mode": {
    "name": "ipython",
    "version": 3
   },
   "file_extension": ".py",
   "mimetype": "text/x-python",
   "name": "python",
   "nbconvert_exporter": "python",
   "pygments_lexer": "ipython3",
   "version": "3.10.0"
  },
  "orig_nbformat": 4
 },
 "nbformat": 4,
 "nbformat_minor": 2
}
